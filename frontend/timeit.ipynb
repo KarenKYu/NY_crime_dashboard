{
 "metadata": {
  "language_info": {
   "codemirror_mode": {
    "name": "ipython",
    "version": 3
   },
   "file_extension": ".py",
   "mimetype": "text/x-python",
   "name": "python",
   "nbconvert_exporter": "python",
   "pygments_lexer": "ipython3",
   "version": "3.8.8-final"
  },
  "orig_nbformat": 2,
  "kernelspec": {
   "name": "python388jvsc74a57bd0394a9ae968bbea5ab608006074733bfcc199a78ab2eb682dab80200c34168a5b",
   "display_name": "Python 3.8.8 64-bit ('karen': virtualenv)"
  }
 },
 "nbformat": 4,
 "nbformat_minor": 2,
 "cells": [
  {
   "cell_type": "code",
   "execution_count": 1,
   "metadata": {},
   "outputs": [],
   "source": [
    "import streamlit as st\n",
    "import requests\n",
    "import plotly.graph_objects as go\n",
    "import pandas as pd\n",
    "import requests\n",
    "API_URL = \"http://127.0.0.1:5000/incidents\""
   ]
  },
  {
   "cell_type": "code",
   "execution_count": 2,
   "metadata": {},
   "outputs": [],
   "source": [
    "def get_lat_lon(API_URL):\n",
    "    session = requests.Session()\n",
    "    incidents = session.get(API_URL).json()\n",
    "    latitude  = [incident.get('latitude','NONE') for incident in incidents]\n",
    "    longitude = [incident.get('longitude','NONE') for incident in incidents]\n",
    "    borough = [incident.get('borough','NONE') for incident in incidents]\n",
    "    scoped_data = zip(latitude,longitude,borough)\n",
    "    df = pd.DataFrame(data = scoped_data, columns = ['lat','lon', 'boro'])\n",
    "    return df"
   ]
  },
  {
   "cell_type": "code",
   "execution_count": 3,
   "metadata": {},
   "outputs": [],
   "source": [
    "def find_lat_long_by_borough(API_URL, option):\n",
    "    lat_lon_df = get_lat_lon(API_URL)\n",
    "    boro_df = lat_lon_df[lat_lon_df['boro']== option]\n",
    "    return boro_df"
   ]
  },
  {
   "cell_type": "code",
   "execution_count": 4,
   "metadata": {},
   "outputs": [],
   "source": [
    "def find_lat_long_by_borough2(lat_lon_df, option):\n",
    "    df = lat_lon_df[lat_lon_df['boro']== option]\n",
    "    return df"
   ]
  },
  {
   "cell_type": "code",
   "execution_count": 11,
   "metadata": {},
   "outputs": [
    {
     "output_type": "stream",
     "name": "stdout",
     "text": [
      "13 s ± 2.83 s per loop (mean ± std. dev. of 7 runs, 1 loop each)\n"
     ]
    }
   ],
   "source": [
    "%%timeit\n",
    "lat_lon_df = get_lat_lon(API_URL)"
   ]
  },
  {
   "cell_type": "code",
   "execution_count": 12,
   "metadata": {},
   "outputs": [
    {
     "output_type": "stream",
     "name": "stdout",
     "text": [
      "12.2 s ± 430 ms per loop (mean ± std. dev. of 7 runs, 1 loop each)\n"
     ]
    }
   ],
   "source": [
    "%%timeit\n",
    "boro1 = find_lat_long_by_borough(API_URL, 'BRONX')"
   ]
  },
  {
   "cell_type": "code",
   "execution_count": null,
   "metadata": {},
   "outputs": [],
   "source": [
    "boro1.shape"
   ]
  },
  {
   "cell_type": "code",
   "execution_count": 13,
   "metadata": {},
   "outputs": [
    {
     "output_type": "stream",
     "name": "stdout",
     "text": [
      "3.38 ms ± 281 µs per loop (mean ± std. dev. of 7 runs, 100 loops each)\n"
     ]
    }
   ],
   "source": [
    "%%timeit\n",
    "boro2 = find_lat_long_by_borough2(lat_lon_df, 'BRONX')"
   ]
  },
  {
   "cell_type": "code",
   "execution_count": null,
   "metadata": {},
   "outputs": [],
   "source": []
  }
 ]
}